# Starbucks Latte Index: A Data Analysis

## Objective
The goal of this analysis is to create the Starbucks Latte Index by comparing latte prices from various countries and applying Purchasing Power Parity (PPP). By evaluating the exchange rates and latte prices, we can calculate the **Latte Index** to assess how currency valuations compare across countries.

## Data Sources
The data for this analysis includes:
1. **Latte Prices (Local Currency)**: The price of a tall latte in each country.
2. **Exchange Rates (USD to Local Currency)**: The exchange rates to convert local currencies into USD.
3. **PPP Exchange Rate**: This is based on the price of a Starbucks latte in USD and local currencies, which helps us compare the cost of a latte in different countries.

## Data Preparation
We collected data from various countries including the United States, China, Japan, the UK, and many others. This data was used to calculate the following metrics:

1. **PPP Exchange Rate**: Derived using the formula:
    \[
    PPP\ Exchange\ Rate = \frac{Latte\ Price\ (Local\ Currency)}{Latte\ Price\ (USD)}
    \]
   
2. **Latte Index**: The ratio of the exchange rate to the PPP exchange rate. This indicates if a currency is overvalued or undervalued relative to the purchasing power parity.

    \[
    Latte\ Index = \frac{Exchange\ Rate}{PPP\ Exchange\ Rate}
    \]

## Data Analysis

### 1. Key Findings

- **United States** has a **Latte Index** of 1, indicating that the USD is fairly valued in terms of the price of a Starbucks latte.
- **China**, despite its relatively high latte price (30 CNY), has a **Latte Index** of 1.23, indicating the yuan is slightly undervalued compared to the price of a latte in the US.
- **Japan** and **South Korea** both have **Latte Index** values of 1.23, suggesting that their currencies are undervalued based on the cost of a Starbucks latte in the US.
- **European Countries** like **Germany**, **France**, and **Italy** have **Latte Index** values slightly less than 1, which indicates that the euro is slightly overvalued relative to the price of a latte in the US.
- **Emerging Markets** such as **India**, **Brazil**, and **South Africa** show significantly high **Latte Index** values, pointing to undervaluation of their currencies relative to the US dollar.

### 2. Interesting Trends

- **High Latte Index in Developing Countries**: Countries like **India**, **Brazil**, and **South Africa** have a high **Latte Index**, indicating that the local currency is undervalued compared to the dollar. This suggests that local consumers are paying more for a Starbucks latte in USD terms than those in developed economies.
- **Europe** seems to have relatively stable and similar prices for lattes across multiple countries, with slight variations in the **Latte Index** due to different exchange rates.
  
### 3. Conclusions

- The **Latte Index** provides an interesting perspective on the relative value of currencies around the world, especially when compared to the **PPP Exchange Rate**.
- The **Latte Index** for countries like **Japan**, **South Korea**, and **China** suggests that their local currencies are undervalued, while **European** currencies seem to be slightly overvalued.
- This analysis gives a snapshot of how the exchange rates align with the real-world cost of a common consumer product: the Starbucks latte.

## Further Analysis

- Future studies could expand the **Latte Index** by including more countries and considering how factors like local cost of living affect the final index.
- In addition to Starbucks lattes, a similar analysis could be applied to other products to give a broader perspective on purchasing power parity across the globe.
